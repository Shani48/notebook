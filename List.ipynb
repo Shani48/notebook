{
 "cells": [
  {
   "cell_type": "markdown",
   "id": "38b875aa-50a6-44a9-a040-31a4633bcf49",
   "metadata": {},
   "source": [
    "# List\n",
    "#### Lists are used to store multiple items in a single variable, lists are one of 4 built-in data types in Python used to store collections of data, the other 3 are Tuple, Set, and Dictionary, all with different qualities and usage.\n",
    "#### Lists are created using square brackets:\n",
    "\n",
    "+ Access list items using index\n",
    "+ Access list items from reverse using negative index\n",
    "+ Slicing to access multiple list items\n",
    "+ len() function\n",
    "+ in operator to check if element exist in a list or not\n",
    "+ append() function to append the new element in the list\n",
    "+ insert() function to insert element at a given position in the python list\n",
    "+ Add or concate two lists using + operator\n",
    "+ Replace list items using index operator\n",
    "+ Replace multiple list items using slicing"
   ]
  },
  {
   "cell_type": "code",
   "execution_count": 77,
   "id": "0e7248ae-fcf8-4a01-bdc5-820fa0c6b2fe",
   "metadata": {},
   "outputs": [],
   "source": [
    "# type\n",
    "names = ['Shan','Ali','Shoaib','Rehman','Abdull']"
   ]
  },
  {
   "cell_type": "code",
   "execution_count": 78,
   "id": "96053966-f57f-42ed-b749-f397924f30d5",
   "metadata": {},
   "outputs": [
    {
     "name": "stdout",
     "output_type": "stream",
     "text": [
      "<class 'list'>\n"
     ]
    }
   ],
   "source": [
    "print(type(names))"
   ]
  },
  {
   "cell_type": "code",
   "execution_count": 79,
   "id": "35241ced-3e97-4b9c-8745-d5cea45a77cf",
   "metadata": {},
   "outputs": [
    {
     "data": {
      "text/plain": [
       "['Shan', 'Ali', 'Shoaib', 'Rehman', 'Abdull']"
      ]
     },
     "execution_count": 79,
     "metadata": {},
     "output_type": "execute_result"
    }
   ],
   "source": [
    "# Access list items using index\n",
    "names[:]"
   ]
  },
  {
   "cell_type": "code",
   "execution_count": 80,
   "id": "c857b7e2-6fc3-472d-8c83-163f895ad605",
   "metadata": {},
   "outputs": [
    {
     "data": {
      "text/plain": [
       "0"
      ]
     },
     "execution_count": 80,
     "metadata": {},
     "output_type": "execute_result"
    }
   ],
   "source": [
    "names.index('Shan')"
   ]
  },
  {
   "cell_type": "code",
   "execution_count": 81,
   "id": "2e03b326-5c27-4f63-a5ae-29f377eff149",
   "metadata": {},
   "outputs": [
    {
     "data": {
      "text/plain": [
       "'Shan'"
      ]
     },
     "execution_count": 81,
     "metadata": {},
     "output_type": "execute_result"
    }
   ],
   "source": [
    "names[0]"
   ]
  },
  {
   "cell_type": "code",
   "execution_count": 82,
   "id": "f6c8624c-5ab7-42b6-b49e-f9dc271d0eba",
   "metadata": {},
   "outputs": [
    {
     "data": {
      "text/plain": [
       "'Abdull'"
      ]
     },
     "execution_count": 82,
     "metadata": {},
     "output_type": "execute_result"
    }
   ],
   "source": [
    "# negative indexing\n",
    "names[-1]"
   ]
  },
  {
   "cell_type": "code",
   "execution_count": 83,
   "id": "a25278a0-2317-4354-a4a6-6ce04f5b6c2e",
   "metadata": {},
   "outputs": [
    {
     "data": {
      "text/plain": [
       "['Shan', 'Ali', 'Shoaib', 'Rehman']"
      ]
     },
     "execution_count": 83,
     "metadata": {},
     "output_type": "execute_result"
    }
   ],
   "source": [
    "names[-5:-1]"
   ]
  },
  {
   "cell_type": "code",
   "execution_count": 84,
   "id": "9ada4c06-9390-4daa-a69b-110fb69e113a",
   "metadata": {},
   "outputs": [
    {
     "data": {
      "text/plain": [
       "['Shan', 'Ali', 'Shoaib', 'Rehman']"
      ]
     },
     "execution_count": 84,
     "metadata": {},
     "output_type": "execute_result"
    }
   ],
   "source": [
    "# Slicing to access multiple list items\n",
    "names[0:4]"
   ]
  },
  {
   "cell_type": "code",
   "execution_count": 85,
   "id": "9742eb17-2680-4e48-b4f0-30e1578b2abd",
   "metadata": {},
   "outputs": [
    {
     "data": {
      "text/plain": [
       "5"
      ]
     },
     "execution_count": 85,
     "metadata": {},
     "output_type": "execute_result"
    }
   ],
   "source": [
    "#len() function\n",
    "len(names)"
   ]
  },
  {
   "cell_type": "code",
   "execution_count": 86,
   "id": "d4bffc15-1c1d-4f13-9a05-a542eb02a42c",
   "metadata": {},
   "outputs": [
    {
     "data": {
      "text/plain": [
       "['Shan', 'Ali', 'Shoaib', 'Rehman', 'Abdull']"
      ]
     },
     "execution_count": 86,
     "metadata": {},
     "output_type": "execute_result"
    }
   ],
   "source": [
    "names"
   ]
  },
  {
   "cell_type": "code",
   "execution_count": 87,
   "id": "227e1a95-fdb0-433b-a984-e2ae657ac312",
   "metadata": {},
   "outputs": [
    {
     "name": "stdout",
     "output_type": "stream",
     "text": [
      "True\n",
      "False\n"
     ]
    }
   ],
   "source": [
    "#in operator to check if element exist in a list or not\n",
    "print('Shan' in names)\n",
    "print('Muhammad' in names)"
   ]
  },
  {
   "cell_type": "code",
   "execution_count": 88,
   "id": "a576dde5-75a2-4b97-a4ca-78d47991bb37",
   "metadata": {},
   "outputs": [
    {
     "name": "stdout",
     "output_type": "stream",
     "text": [
      "['Shan', 'Ali', 'Shoaib', 'Rehman', 'Abdull']\n",
      "['Shan', 'Ali', 'Shoaib', 'Rehman', 'Abdull', 'Muhammad']\n"
     ]
    }
   ],
   "source": [
    "# append() function to append the new element in the list\n",
    "print(names)\n",
    "names.append('Muhammad')\n",
    "print(names)"
   ]
  },
  {
   "cell_type": "code",
   "execution_count": 89,
   "id": "24d2de4a-b441-4fa2-8e79-6d64ad68bb2c",
   "metadata": {},
   "outputs": [
    {
     "data": {
      "text/plain": [
       "['Shan', 'Ali', 'Shoaib', 'Rehman', 'Abdull', 'Muhammad']"
      ]
     },
     "execution_count": 89,
     "metadata": {},
     "output_type": "execute_result"
    }
   ],
   "source": [
    "names[:]"
   ]
  },
  {
   "cell_type": "code",
   "execution_count": 90,
   "id": "b429fe23-14da-4256-bcba-8657d7b9a5b4",
   "metadata": {},
   "outputs": [
    {
     "name": "stdout",
     "output_type": "stream",
     "text": [
      "['Shan', 'Ali', 'Shoaib', 'Rehman', 'Abdull', 'Muhammad']\n",
      "['Shan', 'Kanwal', 'Ali', 'Shoaib', 'Rehman', 'Abdull', 'Muhammad']\n",
      "['Shan', 'Kanwal', 'Ali', 'Shoaib', 'Rehman', 'Abdull', 'Muhammad', 'Noor']\n"
     ]
    }
   ],
   "source": [
    "# insert() function to insert element at a given position in the python list\n",
    "print(names)\n",
    "names.insert(1,'Kanwal')\n",
    "print(names)\n",
    "names.insert(7,\"Noor\")\n",
    "print(names)"
   ]
  },
  {
   "cell_type": "code",
   "execution_count": 91,
   "id": "71f4f7d5-9631-473d-ae3e-704c790eab97",
   "metadata": {},
   "outputs": [
    {
     "name": "stdout",
     "output_type": "stream",
     "text": [
      "[1, 2, 3, 4, 5, -1, -2, -3, -4, 5]\n"
     ]
    }
   ],
   "source": [
    "# insert() function to insert element at a given position in the python list\n",
    "psotive_num =[1,2,3,4,5]\n",
    "negative_num = [-1,-2,-3,-4,5]\n",
    "print(psotive_num + negative_num)"
   ]
  },
  {
   "cell_type": "code",
   "execution_count": 92,
   "id": "48962023-9332-4b64-bb6b-cacd29b8ca0f",
   "metadata": {},
   "outputs": [
    {
     "name": "stdout",
     "output_type": "stream",
     "text": [
      "['Shan', 'Kanwal', 'Ali', 'Shoaib', 'Rehman', 'Abdull', 'Muhammad', 'Noor']\n",
      "['Shan', 'Kanwal', 'Ali', 'Shoaib', 'Rehman', 'Abdull', 'Muhammad Ali', 'Noor']\n"
     ]
    }
   ],
   "source": [
    "# Replace list items using index operator\n",
    "print(names)\n",
    "names[6]='Muhammad Ali'\n",
    "print(names)"
   ]
  },
  {
   "cell_type": "code",
   "execution_count": 93,
   "id": "2b9535f3-fbef-46b1-8d9f-a42430e4db4f",
   "metadata": {},
   "outputs": [
    {
     "name": "stdout",
     "output_type": "stream",
     "text": [
      "['Shan', 'Kanwal', 'Ali', 'Shoaib', 'Rehman', 'Abdull', 'Muhammad Ali', 'Noor']\n",
      "['Shan', 'Kanwal', 'Ali', 'Shoaib', 'Rehman', 'Abdull', 'Noor Muhammad Ali']\n"
     ]
    }
   ],
   "source": [
    "# Replace list items using index operator\n",
    "print(names)\n",
    "names[6:8]=[\"Noor Muhammad Ali\"]\n",
    "print(names)"
   ]
  },
  {
   "cell_type": "code",
   "execution_count": 94,
   "id": "fc54da9b-2e34-4a9f-a274-609f1c659ed7",
   "metadata": {},
   "outputs": [
    {
     "data": {
      "text/plain": [
       "['__add__',\n",
       " '__class__',\n",
       " '__contains__',\n",
       " '__delattr__',\n",
       " '__delitem__',\n",
       " '__dir__',\n",
       " '__doc__',\n",
       " '__eq__',\n",
       " '__format__',\n",
       " '__ge__',\n",
       " '__getattribute__',\n",
       " '__getitem__',\n",
       " '__gt__',\n",
       " '__hash__',\n",
       " '__iadd__',\n",
       " '__imul__',\n",
       " '__init__',\n",
       " '__init_subclass__',\n",
       " '__iter__',\n",
       " '__le__',\n",
       " '__len__',\n",
       " '__lt__',\n",
       " '__mul__',\n",
       " '__ne__',\n",
       " '__new__',\n",
       " '__reduce__',\n",
       " '__reduce_ex__',\n",
       " '__repr__',\n",
       " '__reversed__',\n",
       " '__rmul__',\n",
       " '__setattr__',\n",
       " '__setitem__',\n",
       " '__sizeof__',\n",
       " '__str__',\n",
       " '__subclasshook__',\n",
       " 'append',\n",
       " 'clear',\n",
       " 'copy',\n",
       " 'count',\n",
       " 'extend',\n",
       " 'index',\n",
       " 'insert',\n",
       " 'pop',\n",
       " 'remove',\n",
       " 'reverse',\n",
       " 'sort']"
      ]
     },
     "execution_count": 94,
     "metadata": {},
     "output_type": "execute_result"
    }
   ],
   "source": [
    "dir(list)"
   ]
  }
 ],
 "metadata": {
  "kernelspec": {
   "display_name": "Python 3",
   "language": "python",
   "name": "python3"
  },
  "language_info": {
   "codemirror_mode": {
    "name": "ipython",
    "version": 3
   },
   "file_extension": ".py",
   "mimetype": "text/x-python",
   "name": "python",
   "nbconvert_exporter": "python",
   "pygments_lexer": "ipython3",
   "version": "3.8.8"
  }
 },
 "nbformat": 4,
 "nbformat_minor": 5
}
