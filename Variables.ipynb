{
 "cells": [
  {
   "cell_type": "markdown",
   "id": "fad950b2-9995-45f6-80e6-f05860cf7d27",
   "metadata": {},
   "source": [
    "## Variable Basics\n",
    "#### Rules for nameing a Variable.\n",
    "\n",
    "#### Can't use reverse keywords(e.g. True,for)\n",
    "\n",
    "#### Can't use special character(e.g. $furit)\n",
    "\n",
    "#### Variable name must be begin with letter or _ (name = \"Shan\", cant use 6744 = \"number \" as variable name)\n",
    "\n",
    "#### Variable names are case senstive.\n",
    "\n",
    "#### Example:"
   ]
  },
  {
   "cell_type": "markdown",
   "id": "7716f7cc-cece-48e1-944e-0764064cd12f",
   "metadata": {},
   "source": [
    "### build in function and pre define function"
   ]
  },
  {
   "cell_type": "code",
   "execution_count": 1,
   "id": "72848b75-e9d9-4475-805c-594c6d0fcb98",
   "metadata": {},
   "outputs": [],
   "source": [
    "a = 10"
   ]
  },
  {
   "cell_type": "code",
   "execution_count": 2,
   "id": "9fa9d7d5-e90b-4242-a345-00996c0db07e",
   "metadata": {},
   "outputs": [
    {
     "name": "stdout",
     "output_type": "stream",
     "text": [
      "10\n"
     ]
    }
   ],
   "source": [
    "print(a)"
   ]
  },
  {
   "cell_type": "code",
   "execution_count": 3,
   "id": "dbd24908-4322-4e92-95eb-13e96681b1d3",
   "metadata": {},
   "outputs": [
    {
     "name": "stdout",
     "output_type": "stream",
     "text": [
      "50 Years\n"
     ]
    }
   ],
   "source": [
    "ali_khan_age = '50 Years'\n",
    "print(ali_khan_age)"
   ]
  },
  {
   "cell_type": "code",
   "execution_count": 4,
   "id": "3eb2334f-1e0a-4167-bb17-e53a739669c1",
   "metadata": {},
   "outputs": [
    {
     "ename": "SyntaxError",
     "evalue": "invalid syntax (<ipython-input-4-29957a15814b>, line 1)",
     "output_type": "error",
     "traceback": [
      "\u001b[0;36m  File \u001b[0;32m\"<ipython-input-4-29957a15814b>\"\u001b[0;36m, line \u001b[0;32m1\u001b[0m\n\u001b[0;31m    age$_ali = 30\u001b[0m\n\u001b[0m       ^\u001b[0m\n\u001b[0;31mSyntaxError\u001b[0m\u001b[0;31m:\u001b[0m invalid syntax\n"
     ]
    }
   ],
   "source": [
    "age$_ali = 30\n",
    "print(age$_ali)"
   ]
  },
  {
   "cell_type": "code",
   "execution_count": 5,
   "id": "50fab071-c261-4f45-851b-8bce3a0ec4dc",
   "metadata": {},
   "outputs": [
    {
     "ename": "SyntaxError",
     "evalue": "cannot assign to literal (<ipython-input-5-0185093bb819>, line 1)",
     "output_type": "error",
     "traceback": [
      "\u001b[0;36m  File \u001b[0;32m\"<ipython-input-5-0185093bb819>\"\u001b[0;36m, line \u001b[0;32m1\u001b[0m\n\u001b[0;31m    100 = 'hundred'\u001b[0m\n\u001b[0m    ^\u001b[0m\n\u001b[0;31mSyntaxError\u001b[0m\u001b[0;31m:\u001b[0m cannot assign to literal\n"
     ]
    }
   ],
   "source": [
    "100 = 'hundred'\n",
    "print(100)"
   ]
  },
  {
   "cell_type": "code",
   "execution_count": 6,
   "id": "1ebf2b2e-49ae-471b-9380-d9277411ae42",
   "metadata": {},
   "outputs": [
    {
     "ename": "SyntaxError",
     "evalue": "unexpected EOF while parsing (<ipython-input-6-1694b3c6cb44>, line 2)",
     "output_type": "error",
     "traceback": [
      "\u001b[0;36m  File \u001b[0;32m\"<ipython-input-6-1694b3c6cb44>\"\u001b[0;36m, line \u001b[0;32m2\u001b[0m\n\u001b[0;31m    print(###@)\u001b[0m\n\u001b[0m               ^\u001b[0m\n\u001b[0;31mSyntaxError\u001b[0m\u001b[0;31m:\u001b[0m unexpected EOF while parsing\n"
     ]
    }
   ],
   "source": [
    "###@ = 1021\n",
    "print(###@)"
   ]
  },
  {
   "cell_type": "code",
   "execution_count": 7,
   "id": "241ed2cc-7ab6-445c-a48b-e4e2c03ca1b9",
   "metadata": {},
   "outputs": [
    {
     "ename": "SyntaxError",
     "evalue": "invalid syntax (<ipython-input-7-abc73c447f59>, line 1)",
     "output_type": "error",
     "traceback": [
      "\u001b[0;36m  File \u001b[0;32m\"<ipython-input-7-abc73c447f59>\"\u001b[0;36m, line \u001b[0;32m1\u001b[0m\n\u001b[0;31m    while = 300\u001b[0m\n\u001b[0m          ^\u001b[0m\n\u001b[0;31mSyntaxError\u001b[0m\u001b[0;31m:\u001b[0m invalid syntax\n"
     ]
    }
   ],
   "source": [
    "while = 300\n",
    "print(while)"
   ]
  },
  {
   "cell_type": "code",
   "execution_count": 8,
   "id": "7285e085-7e41-42c2-b93a-8af1bbd591dc",
   "metadata": {},
   "outputs": [
    {
     "ename": "SyntaxError",
     "evalue": "cannot assign to True (<ipython-input-8-09e974add948>, line 1)",
     "output_type": "error",
     "traceback": [
      "\u001b[0;36m  File \u001b[0;32m\"<ipython-input-8-09e974add948>\"\u001b[0;36m, line \u001b[0;32m1\u001b[0m\n\u001b[0;31m    True = 300\u001b[0m\n\u001b[0m    ^\u001b[0m\n\u001b[0;31mSyntaxError\u001b[0m\u001b[0;31m:\u001b[0m cannot assign to True\n"
     ]
    }
   ],
   "source": [
    "True = 300\n",
    "print(True)"
   ]
  }
 ],
 "metadata": {
  "kernelspec": {
   "display_name": "Python 3",
   "language": "python",
   "name": "python3"
  },
  "language_info": {
   "codemirror_mode": {
    "name": "ipython",
    "version": 3
   },
   "file_extension": ".py",
   "mimetype": "text/x-python",
   "name": "python",
   "nbconvert_exporter": "python",
   "pygments_lexer": "ipython3",
   "version": "3.8.8"
  }
 },
 "nbformat": 4,
 "nbformat_minor": 5
}
