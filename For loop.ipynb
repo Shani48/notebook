{
 "cells": [
  {
   "cell_type": "markdown",
   "id": "f6d13795-eff7-4969-9829-9652d219a255",
   "metadata": {},
   "source": [
    "# For Loop\n",
    "## A for loop is a repetition control structure that allows you to efficiently write a loop that needs to be executed a specific number of times, a for loop is useful when you know how many times a task is to be repeated.\n",
    "+ for loop introduction \n",
    "+ range() function \n",
    "+ break in for loop \n",
    "+ continue keyword \n",
    "+ while loop"
   ]
  },
  {
   "cell_type": "code",
   "execution_count": 17,
   "id": "7cc37a42-65cf-4ff1-b8a2-fad5890e3fb3",
   "metadata": {},
   "outputs": [
    {
     "name": "stdout",
     "output_type": "stream",
     "text": [
      "\t 1\n",
      "\t 2\n",
      "\t 3\n",
      "\t 4\n",
      "\t 5\n",
      "\t 6\n",
      "\t 7\n",
      "\t 8\n",
      "\t 9\n",
      "\t 10\n",
      "Total numbers is:  55\n"
     ]
    }
   ],
   "source": [
    "# for loop introduction\n",
    "numbers = [1,2,3,4,5,6,7,8,9,10]\n",
    "total = 0\n",
    "for numbers in numbers:\n",
    "    total = total + numbers\n",
    "    print(\"\\t\",numbers)\n",
    "print(\"Total numbers is: \",total)    "
   ]
  },
  {
   "cell_type": "code",
   "execution_count": 18,
   "id": "6f67b5ff-1979-47d7-a0ad-54dd35cc3fa8",
   "metadata": {},
   "outputs": [
    {
     "name": "stdout",
     "output_type": "stream",
     "text": [
      "0\n",
      "1\n",
      "2\n",
      "3\n",
      "4\n",
      "5\n",
      "6\n",
      "7\n",
      "8\n",
      "9\n"
     ]
    }
   ],
   "source": [
    "# range() function\n",
    "for i in range(10):\n",
    "    print(i)"
   ]
  },
  {
   "cell_type": "code",
   "execution_count": 28,
   "id": "53bac08a-a169-4e8f-be06-523f888e5fed",
   "metadata": {},
   "outputs": [
    {
     "name": "stdout",
     "output_type": "stream",
     "text": [
      "Month 1 , expense : 12000\n",
      "Month 2 , expense : 15000\n",
      "Month 3 , expense : 9500\n",
      "Month 4 , expense : 20000\n",
      "Month 5 , expense : 17000\n",
      "\n",
      "Total expenses is : 73500\n"
     ]
    }
   ],
   "source": [
    "expenses =[12000,15000,9500,20000,17000]\n",
    "total = 0\n",
    "for i in range(len(expenses)):\n",
    "    expense = expenses[i]\n",
    "    print(f\"Month {i+1} , expense : {expense}\")\n",
    "    total += expense\n",
    "print(\"\\nTotal expenses is :\",total)    "
   ]
  },
  {
   "cell_type": "code",
   "execution_count": 43,
   "id": "2c492a7e-1317-46dd-967d-ca8bae31fcce",
   "metadata": {},
   "outputs": [
    {
     "name": "stdout",
     "output_type": "stream",
     "text": [
      "Number not found\n",
      "Number not found\n",
      "Number not found\n",
      "Number not found\n",
      "Number not found\n",
      "Number not found\n",
      "Number not found\n",
      "Number not found\n",
      "Number not found\n",
      "Number not found\n",
      "Number not found\n",
      "Number is found in 12\n",
      "\n",
      "End\n"
     ]
    }
   ],
   "source": [
    "# break in for loop \n",
    "number = 12\n",
    "positive_int = [1,2,3,4,5,6,7,8,9,10,11,12,13,14]\n",
    "\n",
    "for num in positive_int:\n",
    "    if num == number:\n",
    "        print(\"Number is found in\",num)\n",
    "        break\n",
    "    else:\n",
    "        print(\"Number not found\")\n",
    "print(\"\\nEnd\")        "
   ]
  },
  {
   "cell_type": "code",
   "execution_count": 41,
   "id": "ece9bbab-99d3-48cf-b1e9-16c71ebc4721",
   "metadata": {},
   "outputs": [
    {
     "name": "stdout",
     "output_type": "stream",
     "text": [
      "Key not found at Sofa\n",
      "Key not found at Table\n",
      "Key found at Chair\n",
      "\n",
      "END\n"
     ]
    }
   ],
   "source": [
    "key_location =\"Chair\"\n",
    "locations =[\"Sofa\",\"Table\",\"Chair\",\"Grage\"]\n",
    "\n",
    "for loc in locations:\n",
    "    if loc == key_location:\n",
    "        print(\"Key found at\",loc)\n",
    "        break\n",
    "    else:\n",
    "        print(\"Key not found at\",loc)\n",
    "\n",
    "print(\"\\nEND\")        "
   ]
  },
  {
   "cell_type": "code",
   "execution_count": 49,
   "id": "72e7b60d-801f-4bd4-8a16-32b6f6660a3e",
   "metadata": {},
   "outputs": [
    {
     "name": "stdout",
     "output_type": "stream",
     "text": [
      "1\n",
      "3\n",
      "5\n",
      "7\n",
      "9\n"
     ]
    }
   ],
   "source": [
    "# continue keyword\n",
    "\n",
    "#print odd number between 1 to 10\n",
    "for i in range(10):\n",
    "    if i%2==0:\n",
    "        continue\n",
    "    print(i)"
   ]
  },
  {
   "cell_type": "code",
   "execution_count": 53,
   "id": "6aadbc4b-3364-4c53-aeac-444fe9c05f98",
   "metadata": {},
   "outputs": [
    {
     "name": "stdout",
     "output_type": "stream",
     "text": [
      "0\n",
      "1\n",
      "2\n",
      "3\n",
      "4\n",
      "5\n",
      "6\n",
      "7\n",
      "8\n",
      "9\n"
     ]
    }
   ],
   "source": [
    "#while loop\n",
    "n =0\n",
    "while n < 10:\n",
    "    print(n)\n",
    "    n= n+1"
   ]
  }
 ],
 "metadata": {
  "kernelspec": {
   "display_name": "Python 3",
   "language": "python",
   "name": "python3"
  },
  "language_info": {
   "codemirror_mode": {
    "name": "ipython",
    "version": 3
   },
   "file_extension": ".py",
   "mimetype": "text/x-python",
   "name": "python",
   "nbconvert_exporter": "python",
   "pygments_lexer": "ipython3",
   "version": "3.8.8"
  }
 },
 "nbformat": 4,
 "nbformat_minor": 5
}
