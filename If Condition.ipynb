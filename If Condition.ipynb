{
 "cells": [
  {
   "cell_type": "markdown",
   "id": "6d03517d-ce5f-4ad4-9da6-f6582800d794",
   "metadata": {},
   "source": [
    "## if..else condition\n",
    "#### if statement is a programming conditional statement that, if proved true, performs a function or displays information.\n",
    "+ Conditional operators for if \n",
    "+ if..elif..else \n",
    "+ Ternary operator "
   ]
  },
  {
   "cell_type": "code",
   "execution_count": 5,
   "id": "967a3d6b-54bf-4b9e-a97a-9a2d1d921791",
   "metadata": {},
   "outputs": [
    {
     "name": "stdin",
     "output_type": "stream",
     "text": [
      "Enter any number 45\n"
     ]
    },
    {
     "name": "stdout",
     "output_type": "stream",
     "text": [
      "You entered a odd number\n"
     ]
    }
   ],
   "source": [
    "# Even odd programme\n",
    "n = input(\"Enter any number\")\n",
    "n = int(n)\n",
    "if n%2 == 0:\n",
    "    print(\"Your entered number is even\")\n",
    "else:\n",
    "    print(\"You entered a odd number\")"
   ]
  },
  {
   "cell_type": "code",
   "execution_count": 6,
   "id": "f8b0a32b-90ca-4711-96ca-89519bc99420",
   "metadata": {},
   "outputs": [
    {
     "name": "stdin",
     "output_type": "stream",
     "text": [
      "Enter any number 400\n"
     ]
    },
    {
     "name": "stdout",
     "output_type": "stream",
     "text": [
      "Your entered number is even\n"
     ]
    }
   ],
   "source": [
    "# Even odd programme\n",
    "n = input(\"Enter any number\")\n",
    "n = int(n)\n",
    "if n%2 == 0:\n",
    "    print(\"Your entered number is even\")\n",
    "else:\n",
    "    print(\"You entered a odd number\")"
   ]
  },
  {
   "cell_type": "code",
   "execution_count": 7,
   "id": "a5608ee8-312c-40dc-b5c7-a5168ab03d92",
   "metadata": {},
   "outputs": [
    {
     "name": "stdin",
     "output_type": "stream",
     "text": [
      "Enter any number 415.35\n"
     ]
    },
    {
     "ename": "ValueError",
     "evalue": "invalid literal for int() with base 10: '415.35'",
     "output_type": "error",
     "traceback": [
      "\u001b[0;31m---------------------------------------------------------------------------\u001b[0m",
      "\u001b[0;31mValueError\u001b[0m                                Traceback (most recent call last)",
      "\u001b[0;32m<ipython-input-7-d519f6ef03e6>\u001b[0m in \u001b[0;36m<module>\u001b[0;34m\u001b[0m\n\u001b[1;32m      1\u001b[0m \u001b[0;31m# Even odd programme\u001b[0m\u001b[0;34m\u001b[0m\u001b[0;34m\u001b[0m\u001b[0;34m\u001b[0m\u001b[0m\n\u001b[1;32m      2\u001b[0m \u001b[0mn\u001b[0m \u001b[0;34m=\u001b[0m \u001b[0minput\u001b[0m\u001b[0;34m(\u001b[0m\u001b[0;34m\"Enter any number\"\u001b[0m\u001b[0;34m)\u001b[0m\u001b[0;34m\u001b[0m\u001b[0;34m\u001b[0m\u001b[0m\n\u001b[0;32m----> 3\u001b[0;31m \u001b[0mn\u001b[0m \u001b[0;34m=\u001b[0m \u001b[0mint\u001b[0m\u001b[0;34m(\u001b[0m\u001b[0mn\u001b[0m\u001b[0;34m)\u001b[0m\u001b[0;34m\u001b[0m\u001b[0;34m\u001b[0m\u001b[0m\n\u001b[0m\u001b[1;32m      4\u001b[0m \u001b[0;32mif\u001b[0m \u001b[0mn\u001b[0m\u001b[0;34m%\u001b[0m\u001b[0;36m2\u001b[0m \u001b[0;34m==\u001b[0m \u001b[0;36m0\u001b[0m\u001b[0;34m:\u001b[0m\u001b[0;34m\u001b[0m\u001b[0;34m\u001b[0m\u001b[0m\n\u001b[1;32m      5\u001b[0m     \u001b[0mprint\u001b[0m\u001b[0;34m(\u001b[0m\u001b[0;34m\"Your entered number is even\"\u001b[0m\u001b[0;34m)\u001b[0m\u001b[0;34m\u001b[0m\u001b[0;34m\u001b[0m\u001b[0m\n",
      "\u001b[0;31mValueError\u001b[0m: invalid literal for int() with base 10: '415.35'"
     ]
    }
   ],
   "source": [
    "# Even odd programme\n",
    "n = input(\"Enter any number\")\n",
    "n = int(n)\n",
    "if n%2 == 0:\n",
    "    print(\"Your entered number is even\")\n",
    "else:\n",
    "    print(\"You entered a odd number\")"
   ]
  },
  {
   "cell_type": "markdown",
   "id": "251392e3-9011-451a-82df-87a1141246a2",
   "metadata": {},
   "source": [
    "+ ValueError: invalid literal for int() with base 10: '415.35'"
   ]
  },
  {
   "cell_type": "markdown",
   "id": "863b1f9c-7e25-4105-b9e2-3c0d2555b4de",
   "metadata": {},
   "source": [
    "### Conditional operators for if "
   ]
  },
  {
   "cell_type": "code",
   "execution_count": 17,
   "id": "2d0b0ba5-f228-4036-87b6-fb931e815010",
   "metadata": {},
   "outputs": [
    {
     "name": "stdout",
     "output_type": "stream",
     "text": [
      "True\n",
      "True\n",
      "False\n",
      "False\n",
      "False\n",
      "True\n",
      "True\n",
      "False\n",
      "True\n",
      "False\n",
      "True\n",
      "True\n"
     ]
    }
   ],
   "source": [
    "print(4 == 4)\n",
    "print(6 != 7)\n",
    "print(9 == -9)\n",
    "print(9 < 8)\n",
    "print(8 > 9)\n",
    "print((4+5) == 9 )\n",
    "print(3 > 2 and 9 > 5)\n",
    "print(3 > 4 and 9 > 3)\n",
    "print(3 > 4 or 9 > 3)\n",
    "print(not 4 == 4)\n",
    "print(not 4 != 4 )\n",
    "print(not 4 > 10)"
   ]
  },
  {
   "cell_type": "code",
   "execution_count": 22,
   "id": "c59b0618-bfbd-4255-8eea-d3f8f9e8f48a",
   "metadata": {},
   "outputs": [
    {
     "name": "stdin",
     "output_type": "stream",
     "text": [
      "Enter a number from given lists 5\n"
     ]
    },
    {
     "name": "stdout",
     "output_type": "stream",
     "text": [
      "5 is psotive_integer\n"
     ]
    }
   ],
   "source": [
    "positive_int =['1','2','3','4','5','6','7']\n",
    "negative_int =[\"-1\",\"-2\",\"-3\",\"-4\",\"-5\",\"-6\",\"-7\"]\n",
    "complex_num  =[\"1j\",\"2j\",\"3j\",\"4j\",\"5j\",\"6j\",\"7j\"]\n",
    "number = input(\"Enter a number from given lists\")\n",
    "if number in positive_int:\n",
    "    print(f\"{number} is psotive_integer\")\n",
    "elif number in negative_int:\n",
    "    print(f\"{number} is negative_integer\")\n",
    "elif number in complex_num:\n",
    "    print(f\"{number} is complex number\")\n",
    "else:\n",
    "    print(\"Enter a Valid number from lists\")"
   ]
  },
  {
   "cell_type": "code",
   "execution_count": 23,
   "id": "0b881990-a2ea-4192-95d5-4937d9aa868d",
   "metadata": {},
   "outputs": [
    {
     "name": "stdin",
     "output_type": "stream",
     "text": [
      "Enter a number from given lists 45\n"
     ]
    },
    {
     "name": "stdout",
     "output_type": "stream",
     "text": [
      "Enter a Valid number from lists\n"
     ]
    }
   ],
   "source": [
    "positive_int =['1','2','3','4','5','6','7']\n",
    "negative_int =[\"-1\",\"-2\",\"-3\",\"-4\",\"-5\",\"-6\",\"-7\"]\n",
    "complex_num  =[\"1j\",\"2j\",\"3j\",\"4j\",\"5j\",\"6j\",\"7j\"]\n",
    "number = input(\"Enter a number from given lists\")\n",
    "if number in positive_int:\n",
    "    print(f\"{number} is psotive_integer\")\n",
    "elif number in negative_int:\n",
    "    print(f\"{number} is negative_integer\")\n",
    "elif number in complex_num:\n",
    "    print(f\"{number} is complex number\")\n",
    "else:\n",
    "    print(\"Enter a Valid number from lists\")"
   ]
  },
  {
   "cell_type": "code",
   "execution_count": 24,
   "id": "68abbb04-f096-4117-818e-cc05fdb81c02",
   "metadata": {},
   "outputs": [
    {
     "name": "stdin",
     "output_type": "stream",
     "text": [
      "Enter a number from given lists 1j\n"
     ]
    },
    {
     "name": "stdout",
     "output_type": "stream",
     "text": [
      "1j is complex number\n"
     ]
    }
   ],
   "source": [
    "positive_int =['1','2','3','4','5','6','7']\n",
    "negative_int =[\"-1\",\"-2\",\"-3\",\"-4\",\"-5\",\"-6\",\"-7\"]\n",
    "complex_num  =[\"1j\",\"2j\",\"3j\",\"4j\",\"5j\",\"6j\",\"7j\"]\n",
    "number = input(\"Enter a number from given lists\")\n",
    "if number in positive_int:\n",
    "    print(f\"{number} is psotive_integer\")\n",
    "elif number in negative_int:\n",
    "    print(f\"{number} is negative_integer\")\n",
    "elif number in complex_num:\n",
    "    print(f\"{number} is complex number\")\n",
    "else:\n",
    "    print(\"Enter a Valid number from lists\")"
   ]
  },
  {
   "cell_type": "code",
   "execution_count": 21,
   "id": "20111e72-9265-4162-8b16-89ff7263cb96",
   "metadata": {},
   "outputs": [
    {
     "name": "stdin",
     "output_type": "stream",
     "text": [
      "Enter a number from given lists -7\n"
     ]
    },
    {
     "name": "stdout",
     "output_type": "stream",
     "text": [
      "-7 is negative_integer\n"
     ]
    }
   ],
   "source": [
    "positive_int =['1','2','3','4','5','6','7']\n",
    "negative_int =[\"-1\",\"-2\",\"-3\",\"-4\",\"-5\",\"-6\",\"-7\"]\n",
    "complex_num  =[\"1j\",\"2j\",\"3j\",\"4j\",\"5j\",\"6j\",\"7j\"]\n",
    "number = input(\"Enter a number from given lists\")\n",
    "if number in positive_int:\n",
    "    print(f\"{number} is psotive_integer\")\n",
    "elif number in negative_int:\n",
    "    print(f\"{number} is negative_integer\")\n",
    "elif number in complex_num:\n",
    "    print(f\"{number} is complex number\")\n",
    "else:\n",
    "    print(\"Enter a Valid number from list\")"
   ]
  },
  {
   "cell_type": "markdown",
   "id": "7d9cf2c3-6965-4c03-af7e-f0123db18906",
   "metadata": {},
   "source": [
    "## Ternary operator "
   ]
  },
  {
   "cell_type": "code",
   "execution_count": 25,
   "id": "9c62f2eb-849f-4396-9cca-6191ca90ef13",
   "metadata": {},
   "outputs": [
    {
     "name": "stdin",
     "output_type": "stream",
     "text": [
      "Enter any number 14\n"
     ]
    },
    {
     "name": "stdout",
     "output_type": "stream",
     "text": [
      "Number is even\n"
     ]
    }
   ],
   "source": [
    "n = input(\"Enter any number\")\n",
    "n = int(n)\n",
    "message =\"Number is even\" if n%2==0 else \"Number is odd\"\n",
    "print(message)"
   ]
  }
 ],
 "metadata": {
  "kernelspec": {
   "display_name": "Python 3",
   "language": "python",
   "name": "python3"
  },
  "language_info": {
   "codemirror_mode": {
    "name": "ipython",
    "version": 3
   },
   "file_extension": ".py",
   "mimetype": "text/x-python",
   "name": "python",
   "nbconvert_exporter": "python",
   "pygments_lexer": "ipython3",
   "version": "3.8.8"
  }
 },
 "nbformat": 4,
 "nbformat_minor": 5
}
