{
 "cells": [
  {
   "cell_type": "markdown",
   "id": "54eb8c72-7e5f-41d4-94d6-06b39eb4933b",
   "metadata": {},
   "source": [
    "## String introduction and index operator\n",
    "+ String slicing Index tells us about which charachter is located at whi\n",
    "+ len() function \n",
    "+ in operator\n",
    "+ not in operator\n",
    "+ str does not support item assignment\n",
    "+ replace() function\n",
    "+ dir() function\n",
    "+ upper() and lower() function\n",
    "+ is digit() function\n",
    "+ index() function\n",
    "+ str() function\n",
    "+ \\ to escape ' and \"\"\n",
    "+ multiline string using tripple quotes (''')\n",
    "+ \\n and \\t characters\n",
    "+ +operator to join two strings"
   ]
  },
  {
   "cell_type": "code",
   "execution_count": 9,
   "id": "53242f62-0c43-4904-be5a-56c7ac6a3b36",
   "metadata": {},
   "outputs": [
    {
     "data": {
      "text/plain": [
       "0"
      ]
     },
     "execution_count": 9,
     "metadata": {},
     "output_type": "execute_result"
    }
   ],
   "source": [
    "# Index always starts from 0\n",
    "name = \"Shan Ali\"\n",
    "name.index('S')"
   ]
  },
  {
   "cell_type": "code",
   "execution_count": 2,
   "id": "a457a803-27af-4313-9d0f-7325227cdd96",
   "metadata": {},
   "outputs": [
    {
     "data": {
      "text/plain": [
       "'a'"
      ]
     },
     "execution_count": 2,
     "metadata": {},
     "output_type": "execute_result"
    }
   ],
   "source": [
    "name[2]"
   ]
  },
  {
   "cell_type": "code",
   "execution_count": 13,
   "id": "da1489b9-e197-4805-9fea-959280822564",
   "metadata": {},
   "outputs": [
    {
     "data": {
      "text/plain": [
       "'i'"
      ]
     },
     "execution_count": 13,
     "metadata": {},
     "output_type": "execute_result"
    }
   ],
   "source": [
    "name[-1]"
   ]
  },
  {
   "cell_type": "code",
   "execution_count": 14,
   "id": "79b72128-d758-4408-8c09-93743ecfa05d",
   "metadata": {},
   "outputs": [
    {
     "data": {
      "text/plain": [
       "8"
      ]
     },
     "execution_count": 14,
     "metadata": {},
     "output_type": "execute_result"
    }
   ],
   "source": [
    "# len is a function which tells us about length of object.\n",
    "len(name)"
   ]
  },
  {
   "cell_type": "code",
   "execution_count": 21,
   "id": "76e71017-1537-471a-a2e0-d1be582cf80b",
   "metadata": {},
   "outputs": [
    {
     "data": {
      "text/plain": [
       "23"
      ]
     },
     "execution_count": 21,
     "metadata": {},
     "output_type": "execute_result"
    }
   ],
   "source": [
    "num = \"one,two,three,four,five\"\n",
    "len(num)"
   ]
  },
  {
   "cell_type": "code",
   "execution_count": 26,
   "id": "6303cab5-6f1a-44db-9dd8-c30a38c62c4f",
   "metadata": {},
   "outputs": [
    {
     "name": "stdout",
     "output_type": "stream",
     "text": [
      "23\n",
      "0\n",
      "one,two,three,four,five\n"
     ]
    }
   ],
   "source": [
    "print(len(num))\n",
    "print(num.index(\"o\"))\n",
    "print(num[:])"
   ]
  },
  {
   "cell_type": "code",
   "execution_count": 24,
   "id": "e621edc3-30c7-44b9-8bfb-0f69526ffd2a",
   "metadata": {},
   "outputs": [
    {
     "name": "stdout",
     "output_type": "stream",
     "text": [
      "True\n",
      "False\n"
     ]
    }
   ],
   "source": [
    "# in operator tells us object is present or not in datase\"\n",
    "print(\"one\" in num)\n",
    "print(\"Seven\" in num)\n"
   ]
  },
  {
   "cell_type": "code",
   "execution_count": 28,
   "id": "85779a10-287f-4be4-98f3-e01759208f1d",
   "metadata": {},
   "outputs": [
    {
     "name": "stdout",
     "output_type": "stream",
     "text": [
      "False\n",
      "True\n"
     ]
    }
   ],
   "source": [
    "#not operator\n",
    "print(\"one\" not in num)\n",
    "print(\"Seven\" not in num)"
   ]
  },
  {
   "cell_type": "code",
   "execution_count": 29,
   "id": "2c9074d1-7b43-44fd-b896-9d890f0fa7c9",
   "metadata": {},
   "outputs": [
    {
     "name": "stdout",
     "output_type": "stream",
     "text": [
      "one,two,three,four,five\n"
     ]
    }
   ],
   "source": [
    "# str does not support item assignment\n",
    "print(num[0:])"
   ]
  },
  {
   "cell_type": "code",
   "execution_count": 30,
   "id": "43c33ca9-af3d-44da-b038-b2e6558d2cfd",
   "metadata": {},
   "outputs": [
    {
     "ename": "TypeError",
     "evalue": "'str' object does not support item assignment",
     "output_type": "error",
     "traceback": [
      "\u001b[0;31m---------------------------------------------------------------------------\u001b[0m",
      "\u001b[0;31mTypeError\u001b[0m                                 Traceback (most recent call last)",
      "\u001b[0;32m<ipython-input-30-97bfea5bed03>\u001b[0m in \u001b[0;36m<module>\u001b[0;34m\u001b[0m\n\u001b[0;32m----> 1\u001b[0;31m \u001b[0mnum\u001b[0m\u001b[0;34m[\u001b[0m\u001b[0;36m0\u001b[0m\u001b[0;34m]\u001b[0m \u001b[0;34m=\u001b[0m \u001b[0;34m\"T\"\u001b[0m\u001b[0;34m\u001b[0m\u001b[0;34m\u001b[0m\u001b[0m\n\u001b[0m",
      "\u001b[0;31mTypeError\u001b[0m: 'str' object does not support item assignment"
     ]
    }
   ],
   "source": [
    "num[0] = \"T\""
   ]
  },
  {
   "cell_type": "code",
   "execution_count": 31,
   "id": "f1ffab31-d44f-4a16-b55f-3be6e5181196",
   "metadata": {},
   "outputs": [
    {
     "data": {
      "text/plain": [
       "'ONE,two,three,four,five'"
      ]
     },
     "execution_count": 31,
     "metadata": {},
     "output_type": "execute_result"
    }
   ],
   "source": [
    "num.replace(\"one\",\"ONE\")"
   ]
  },
  {
   "cell_type": "code",
   "execution_count": 32,
   "id": "1e694d55-60d3-4a92-93b8-7bed7925a86a",
   "metadata": {},
   "outputs": [
    {
     "data": {
      "text/plain": [
       "'one,two,three,four,five'"
      ]
     },
     "execution_count": 32,
     "metadata": {},
     "output_type": "execute_result"
    }
   ],
   "source": [
    "num"
   ]
  },
  {
   "cell_type": "code",
   "execution_count": 33,
   "id": "cb391cdd-6cc9-4dfb-a342-6f8d5d521513",
   "metadata": {},
   "outputs": [],
   "source": [
    "num = num.replace(\"one\",\"ONE\")"
   ]
  },
  {
   "cell_type": "code",
   "execution_count": 34,
   "id": "cabf2e27-8103-4d5b-9b47-b425fc2f04b8",
   "metadata": {},
   "outputs": [
    {
     "data": {
      "text/plain": [
       "'ONE,two,three,four,five'"
      ]
     },
     "execution_count": 34,
     "metadata": {},
     "output_type": "execute_result"
    }
   ],
   "source": [
    "num"
   ]
  },
  {
   "cell_type": "code",
   "execution_count": 35,
   "id": "76a5e88e-b852-488d-a1aa-eda0c1728fdf",
   "metadata": {},
   "outputs": [
    {
     "data": {
      "text/plain": [
       "['__add__',\n",
       " '__class__',\n",
       " '__contains__',\n",
       " '__delattr__',\n",
       " '__dir__',\n",
       " '__doc__',\n",
       " '__eq__',\n",
       " '__format__',\n",
       " '__ge__',\n",
       " '__getattribute__',\n",
       " '__getitem__',\n",
       " '__getnewargs__',\n",
       " '__gt__',\n",
       " '__hash__',\n",
       " '__init__',\n",
       " '__init_subclass__',\n",
       " '__iter__',\n",
       " '__le__',\n",
       " '__len__',\n",
       " '__lt__',\n",
       " '__mod__',\n",
       " '__mul__',\n",
       " '__ne__',\n",
       " '__new__',\n",
       " '__reduce__',\n",
       " '__reduce_ex__',\n",
       " '__repr__',\n",
       " '__rmod__',\n",
       " '__rmul__',\n",
       " '__setattr__',\n",
       " '__sizeof__',\n",
       " '__str__',\n",
       " '__subclasshook__',\n",
       " 'capitalize',\n",
       " 'casefold',\n",
       " 'center',\n",
       " 'count',\n",
       " 'encode',\n",
       " 'endswith',\n",
       " 'expandtabs',\n",
       " 'find',\n",
       " 'format',\n",
       " 'format_map',\n",
       " 'index',\n",
       " 'isalnum',\n",
       " 'isalpha',\n",
       " 'isascii',\n",
       " 'isdecimal',\n",
       " 'isdigit',\n",
       " 'isidentifier',\n",
       " 'islower',\n",
       " 'isnumeric',\n",
       " 'isprintable',\n",
       " 'isspace',\n",
       " 'istitle',\n",
       " 'isupper',\n",
       " 'join',\n",
       " 'ljust',\n",
       " 'lower',\n",
       " 'lstrip',\n",
       " 'maketrans',\n",
       " 'partition',\n",
       " 'replace',\n",
       " 'rfind',\n",
       " 'rindex',\n",
       " 'rjust',\n",
       " 'rpartition',\n",
       " 'rsplit',\n",
       " 'rstrip',\n",
       " 'split',\n",
       " 'splitlines',\n",
       " 'startswith',\n",
       " 'strip',\n",
       " 'swapcase',\n",
       " 'title',\n",
       " 'translate',\n",
       " 'upper',\n",
       " 'zfill']"
      ]
     },
     "execution_count": 35,
     "metadata": {},
     "output_type": "execute_result"
    }
   ],
   "source": [
    "dir(num)"
   ]
  },
  {
   "cell_type": "code",
   "execution_count": 41,
   "id": "ea020392-025e-44d3-a47a-33b8e2dcec1c",
   "metadata": {},
   "outputs": [
    {
     "name": "stdout",
     "output_type": "stream",
     "text": [
      "ali\n"
     ]
    }
   ],
   "source": [
    "# upper() and lower() function\n",
    "name = \"ali\"\n",
    "print(name)"
   ]
  },
  {
   "cell_type": "code",
   "execution_count": 42,
   "id": "ad5ede70-82af-4e0d-8efd-914527c6cd53",
   "metadata": {},
   "outputs": [
    {
     "name": "stdout",
     "output_type": "stream",
     "text": [
      "ALI\n"
     ]
    }
   ],
   "source": [
    "name = name.upper()\n",
    "print(name)"
   ]
  },
  {
   "cell_type": "code",
   "execution_count": 43,
   "id": "15aa7a3c-0a07-499b-b526-06d57fe6dd16",
   "metadata": {},
   "outputs": [
    {
     "name": "stdout",
     "output_type": "stream",
     "text": [
      "ali\n"
     ]
    }
   ],
   "source": [
    "name = name.lower()\n",
    "print(name)"
   ]
  },
  {
   "cell_type": "code",
   "execution_count": 44,
   "id": "7fe5df1b-cd4a-4888-bb33-8365931c6be5",
   "metadata": {},
   "outputs": [
    {
     "data": {
      "text/plain": [
       "'shanAli'"
      ]
     },
     "execution_count": 44,
     "metadata": {},
     "output_type": "execute_result"
    }
   ],
   "source": [
    "# joing of strings using + operator\n",
    "\"shan\" + \"Ali\""
   ]
  },
  {
   "cell_type": "code",
   "execution_count": 46,
   "id": "6852cbf7-6f2b-4100-923c-4acf62d49a64",
   "metadata": {},
   "outputs": [
    {
     "name": "stdout",
     "output_type": "stream",
     "text": [
      "ShanAli\n"
     ]
    }
   ],
   "source": [
    "f_name = \"Shan\"\n",
    "L_name = \"Ali\"\n",
    "full_name = f_name + L_name\n",
    "print(full_name)"
   ]
  },
  {
   "cell_type": "code",
   "execution_count": 50,
   "id": "21b94dc6-dc41-43e7-82a7-78f7322c0369",
   "metadata": {},
   "outputs": [
    {
     "data": {
      "text/plain": [
       "'ShanLashari'"
      ]
     },
     "execution_count": 50,
     "metadata": {},
     "output_type": "execute_result"
    }
   ],
   "source": [
    "f_name = \"Shan\"\n",
    "L_name = \"Ali\"\n",
    "full_name_1 = \"Shan\" + \"Lashari\"\n",
    "full_name_1"
   ]
  },
  {
   "cell_type": "code",
   "execution_count": 57,
   "id": "495fc267-d4c5-4e15-aef6-8793bef76c30",
   "metadata": {},
   "outputs": [],
   "source": [
    "# str() function\n",
    "state = 4\n",
    "text =\"State in Pakistan : \""
   ]
  },
  {
   "cell_type": "code",
   "execution_count": 52,
   "id": "f7cd1999-2b5c-4f57-8a59-c5fd36b48c22",
   "metadata": {},
   "outputs": [
    {
     "ename": "TypeError",
     "evalue": "unsupported operand type(s) for +: 'int' and 'str'",
     "output_type": "error",
     "traceback": [
      "\u001b[0;31m---------------------------------------------------------------------------\u001b[0m",
      "\u001b[0;31mTypeError\u001b[0m                                 Traceback (most recent call last)",
      "\u001b[0;32m<ipython-input-52-df459db03cf4>\u001b[0m in \u001b[0;36m<module>\u001b[0;34m\u001b[0m\n\u001b[0;32m----> 1\u001b[0;31m \u001b[0mstate\u001b[0m \u001b[0;34m+\u001b[0m \u001b[0mtext\u001b[0m\u001b[0;34m\u001b[0m\u001b[0;34m\u001b[0m\u001b[0m\n\u001b[0m",
      "\u001b[0;31mTypeError\u001b[0m: unsupported operand type(s) for +: 'int' and 'str'"
     ]
    }
   ],
   "source": [
    "state + text"
   ]
  },
  {
   "cell_type": "code",
   "execution_count": 58,
   "id": "29c42681-cbe6-477f-97a9-c4d0e51f5a85",
   "metadata": {},
   "outputs": [
    {
     "data": {
      "text/plain": [
       "'State in Pakistan : 4'"
      ]
     },
     "execution_count": 58,
     "metadata": {},
     "output_type": "execute_result"
    }
   ],
   "source": [
    "text + str(state)"
   ]
  },
  {
   "cell_type": "code",
   "execution_count": 59,
   "id": "808d04f4-15f0-493f-8564-510131d9b52d",
   "metadata": {},
   "outputs": [
    {
     "ename": "SyntaxError",
     "evalue": "invalid syntax (<ipython-input-59-fea59b9a75b5>, line 2)",
     "output_type": "error",
     "traceback": [
      "\u001b[0;36m  File \u001b[0;32m\"<ipython-input-59-fea59b9a75b5>\"\u001b[0;36m, line \u001b[0;32m2\u001b[0m\n\u001b[0;31m    text = 'Let's learn python'\u001b[0m\n\u001b[0m                ^\u001b[0m\n\u001b[0;31mSyntaxError\u001b[0m\u001b[0;31m:\u001b[0m invalid syntax\n"
     ]
    }
   ],
   "source": [
    "# multiline string using tripple quotes (''')\n",
    "text = 'Let's learn python'"
   ]
  },
  {
   "cell_type": "code",
   "execution_count": 61,
   "id": "ad134958-34cd-4473-81dc-5dfc3020c4ad",
   "metadata": {},
   "outputs": [
    {
     "data": {
      "text/plain": [
       "\"let's learn python\""
      ]
     },
     "execution_count": 61,
     "metadata": {},
     "output_type": "execute_result"
    }
   ],
   "source": [
    "text = \"let's learn python\"\n",
    "text"
   ]
  },
  {
   "cell_type": "code",
   "execution_count": 62,
   "id": "8d7b2b74-a86f-4e3e-ac9a-2b3531ec6887",
   "metadata": {},
   "outputs": [
    {
     "data": {
      "text/plain": [
       "\"let's learn python\""
      ]
     },
     "execution_count": 62,
     "metadata": {},
     "output_type": "execute_result"
    }
   ],
   "source": [
    "text = 'let\\'s learn python'\n",
    "text"
   ]
  },
  {
   "cell_type": "code",
   "execution_count": 79,
   "id": "ea4df049-7ccf-4a13-bb85-7ca76863c252",
   "metadata": {},
   "outputs": [
    {
     "name": "stdout",
     "output_type": "stream",
     "text": [
      "apple\n",
      "orange\n"
     ]
    }
   ],
   "source": [
    "print(\"apple\\norange\")"
   ]
  },
  {
   "cell_type": "code",
   "execution_count": 81,
   "id": "c76949ae-cf3b-4f36-8b2c-829163260350",
   "metadata": {},
   "outputs": [
    {
     "name": "stdout",
     "output_type": "stream",
     "text": [
      "one\n",
      "two\n",
      "three\n"
     ]
    }
   ],
   "source": [
    "numbers= \"one\\ntwo\\nthree\"\n",
    "print(numbers)"
   ]
  },
  {
   "cell_type": "code",
   "execution_count": 82,
   "id": "eaee6c3f-52b0-40e5-8546-3a41bb3b9a27",
   "metadata": {},
   "outputs": [
    {
     "name": "stdout",
     "output_type": "stream",
     "text": [
      "one\ttwo\tthree\n"
     ]
    }
   ],
   "source": [
    "numbers =\"one\\ttwo\\tthree\"\n",
    "print(numbers)"
   ]
  },
  {
   "cell_type": "markdown",
   "id": "eb74a391-b8b2-4a03-b217-84373156ab0e",
   "metadata": {},
   "source": [
    "# Excercise\n",
    "+ Create 3 variables to store street, city and country, now create address variable to store entire address\n",
    "Use two ways of creating this variable, one using + operator and the other using f-string. Now Print the address in such a way that the street, city and country prints in a separate line\n",
    "+ Create a variable to store the string \"Earth revolves around the sun\"\n",
    "+ Print \"revolves\" using slice operator\n",
    "+ Print \"sun\" using negative index\n",
    "+ Create two variables to store how many fruits and vegetables you eat in a day. Now Print \"I eat x veggies and y fruits daily\" where x and y presents vegetables and fruits that you eat everyday.\n",
    " Use python f string for this.\n",
    "+ I have a string variable called s='maine 200 banana khaye'. This of course is a wrong statement, the correct statement is 'maine 10 samosa khaye'.\n",
    " Replace incorrect words in original strong with new ones and print the new string. Also try to do this in one line."
   ]
  },
  {
   "cell_type": "code",
   "execution_count": null,
   "id": "5ea03873-0a11-4959-9965-9bcd6a3875e3",
   "metadata": {},
   "outputs": [],
   "source": []
  }
 ],
 "metadata": {
  "kernelspec": {
   "display_name": "Python 3",
   "language": "python",
   "name": "python3"
  },
  "language_info": {
   "codemirror_mode": {
    "name": "ipython",
    "version": 3
   },
   "file_extension": ".py",
   "mimetype": "text/x-python",
   "name": "python",
   "nbconvert_exporter": "python",
   "pygments_lexer": "ipython3",
   "version": "3.8.8"
  }
 },
 "nbformat": 4,
 "nbformat_minor": 5
}
